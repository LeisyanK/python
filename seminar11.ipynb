{
  "nbformat": 4,
  "nbformat_minor": 0,
  "metadata": {
    "colab": {
      "provenance": [],
      "authorship_tag": "ABX9TyPVGrjxMzdOJ2rFL4Up0mum",
      "include_colab_link": true
    },
    "kernelspec": {
      "name": "python3",
      "display_name": "Python 3"
    },
    "language_info": {
      "name": "python"
    }
  },
  "cells": [
    {
      "cell_type": "markdown",
      "metadata": {
        "id": "view-in-github",
        "colab_type": "text"
      },
      "source": [
        "<a href=\"https://colab.research.google.com/github/LeisyanK/python/blob/main/seminar11.ipynb\" target=\"_parent\"><img src=\"https://colab.research.google.com/assets/colab-badge.svg\" alt=\"Open In Colab\"/></a>"
      ]
    },
    {
      "cell_type": "code",
      "execution_count": 23,
      "metadata": {
        "id": "GWAuQo8RezlU"
      },
      "outputs": [],
      "source": [
        "from sympy import *\n",
        "from sympy.plotting import plot"
      ]
    },
    {
      "cell_type": "code",
      "source": [
        "x = Symbol('x')"
      ],
      "metadata": {
        "id": "M8_2-WThfBx0"
      },
      "execution_count": 24,
      "outputs": []
    },
    {
      "cell_type": "code",
      "source": [
        "fx = -5*x**2 + 10*x - 150\n",
        "fx"
      ],
      "metadata": {
        "colab": {
          "base_uri": "https://localhost:8080/",
          "height": 38
        },
        "id": "XpkwB0X5fbQN",
        "outputId": "2ec8485f-d3f9-495b-f466-1387b795a5d6"
      },
      "execution_count": 25,
      "outputs": [
        {
          "output_type": "execute_result",
          "data": {
            "text/plain": [
              "-5*x**2 + 10*x - 150"
            ],
            "text/latex": "$\\displaystyle - 5 x^{2} + 10 x - 150$"
          },
          "metadata": {},
          "execution_count": 25
        }
      ]
    },
    {
      "cell_type": "code",
      "source": [
        "plot(fx)"
      ],
      "metadata": {
        "colab": {
          "base_uri": "https://localhost:8080/",
          "height": 314
        },
        "id": "65L-NOUZfkzE",
        "outputId": "3ee46160-a8f7-4b60-9c88-32c65775b9da"
      },
      "execution_count": 39,
      "outputs": [
        {
          "output_type": "display_data",
          "data": {
            "text/plain": [
              "<Figure size 432x288 with 1 Axes>"
            ],
            "image/png": "[encoded data removed]"
          },
          "metadata": {
            "needs_background": "light"
          }
        },
        {
          "output_type": "execute_result",
          "data": {
            "text/plain": [
              "<sympy.plotting.plot.Plot at 0x7fb927d90940>"
            ]
          },
          "metadata": {},
          "execution_count": 39
        }
      ]
    },
    {
      "cell_type": "code",
      "source": [
        "solve(fx, x)"
      ],
      "metadata": {
        "colab": {
          "base_uri": "https://localhost:8080/"
        },
        "id": "p1laNRlff2Dh",
        "outputId": "5d984606-c313-4a8a-b833-297befe7b20e"
      },
      "execution_count": 27,
      "outputs": [
        {
          "output_type": "execute_result",
          "data": {
            "text/plain": [
              "[1 - sqrt(29)*I, 1 + sqrt(29)*I]"
            ]
          },
          "metadata": {},
          "execution_count": 27
        }
      ]
    },
    {
      "cell_type": "code",
      "source": [
        "x1, x2 = solve(fx, x)\n",
        "round(x1.evalf(),3), round(x2.evalf(),3)"
      ],
      "metadata": {
        "colab": {
          "base_uri": "https://localhost:8080/"
        },
        "id": "o6RezGvmwgak",
        "outputId": "d0bb97bd-b21f-4a0b-9790-77afbb9a2088"
      },
      "execution_count": 28,
      "outputs": [
        {
          "output_type": "execute_result",
          "data": {
            "text/plain": [
              "(1.0 - 5.385*I, 1.0 + 5.385*I)"
            ]
          },
          "metadata": {},
          "execution_count": 28
        }
      ]
    },
    {
      "cell_type": "code",
      "source": [
        "solve(fx>0)"
      ],
      "metadata": {
        "colab": {
          "base_uri": "https://localhost:8080/",
          "height": 37
        },
        "id": "M8vNDq6BrbIp",
        "outputId": "9e72725b-40e9-4224-d16e-c1e15e4304ad"
      },
      "execution_count": 29,
      "outputs": [
        {
          "output_type": "execute_result",
          "data": {
            "text/plain": [
              "False"
            ],
            "text/latex": "$\\displaystyle \\text{False}$"
          },
          "metadata": {},
          "execution_count": 29
        }
      ]
    },
    {
      "cell_type": "code",
      "source": [
        "solve(fx<0)"
      ],
      "metadata": {
        "colab": {
          "base_uri": "https://localhost:8080/",
          "height": 38
        },
        "id": "8IoasXzQrbPd",
        "outputId": "9816d313-b65d-499e-d3c8-3577b4ae2ccb"
      },
      "execution_count": 30,
      "outputs": [
        {
          "output_type": "execute_result",
          "data": {
            "text/plain": [
              "(-oo < x) & (x < oo)"
            ],
            "text/latex": "$\\displaystyle -\\infty < x \\wedge x < \\infty$"
          },
          "metadata": {},
          "execution_count": 30
        }
      ]
    },
    {
      "cell_type": "markdown",
      "source": [
        "Дана функция f(x) = -5*x**2 + 10*x - 150\n",
        "\n",
        "1. Определить корни\n",
        "\n",
        "2. Найти интервалы, на которых функция возрастает\n",
        "\n",
        "3. Найти интервалы, на которых функция убывает\n",
        "\n",
        "4. Построить график\n",
        "\n",
        "5. Вычислить вершину\n",
        "\n",
        "6. Определить промежутки, на котором f > 0\n",
        "\n",
        "7. Определить промежутки, на котором f < 0"
      ],
      "metadata": {
        "id": "WLxmajRfrnid"
      }
    },
    {
      "cell_type": "code",
      "source": [
        "diff(fx)"
      ],
      "metadata": {
        "colab": {
          "base_uri": "https://localhost:8080/",
          "height": 38
        },
        "id": "qN3NrBgVtoyH",
        "outputId": "fe88c1be-4b09-4899-a827-1a544d945ea3"
      },
      "execution_count": 31,
      "outputs": [
        {
          "output_type": "execute_result",
          "data": {
            "text/plain": [
              "10 - 10*x"
            ],
            "text/latex": "$\\displaystyle 10 - 10 x$"
          },
          "metadata": {},
          "execution_count": 31
        }
      ]
    },
    {
      "cell_type": "code",
      "source": [
        "plot(diff(fx))"
      ],
      "metadata": {
        "colab": {
          "base_uri": "https://localhost:8080/",
          "height": 314
        },
        "id": "VT8xcURGt7TY",
        "outputId": "01855001-f94f-4522-c341-c0acaa32989d"
      },
      "execution_count": 32,
      "outputs": [
        {
          "output_type": "display_data",
          "data": {
            "text/plain": [
              "<Figure size 432x288 with 1 Axes>"
            ],
            "image/png": "[encoded data removed]"
          },
          "metadata": {
            "needs_background": "light"
          }
        },
        {
          "output_type": "execute_result",
          "data": {
            "text/plain": [
              "<sympy.plotting.plot.Plot at 0x7fb927dead60>"
            ]
          },
          "metadata": {},
          "execution_count": 32
        }
      ]
    },
    {
      "cell_type": "code",
      "source": [
        "solve(diff(fx))  # вершина функции"
      ],
      "metadata": {
        "colab": {
          "base_uri": "https://localhost:8080/"
        },
        "id": "HCn_bh__uHc2",
        "outputId": "1e3e9ddd-3074-4352-e4dc-c641996a372b"
      },
      "execution_count": 38,
      "outputs": [
        {
          "output_type": "execute_result",
          "data": {
            "text/plain": [
              "[1]"
            ]
          },
          "metadata": {},
          "execution_count": 38
        }
      ]
    },
    {
      "cell_type": "code",
      "source": [
        "solve(diff(fx)<0)  # функция убывает"
      ],
      "metadata": {
        "colab": {
          "base_uri": "https://localhost:8080/",
          "height": 38
        },
        "id": "5IEP-wcJtTsu",
        "outputId": "900cc6b9-53bf-4ab7-8e07-006965a972f4"
      },
      "execution_count": 34,
      "outputs": [
        {
          "output_type": "execute_result",
          "data": {
            "text/plain": [
              "(1 < x) & (x < oo)"
            ],
            "text/latex": "$\\displaystyle 1 < x \\wedge x < \\infty$"
          },
          "metadata": {},
          "execution_count": 34
        }
      ]
    },
    {
      "cell_type": "code",
      "source": [
        "solve(diff(fx)>0)  # функция возрастает"
      ],
      "metadata": {
        "colab": {
          "base_uri": "https://localhost:8080/",
          "height": 38
        },
        "id": "VZFq5S0zuOjt",
        "outputId": "fb75f51d-d587-4dbd-ae3b-84b54f2c7c7e"
      },
      "execution_count": 35,
      "outputs": [
        {
          "output_type": "execute_result",
          "data": {
            "text/plain": [
              "(-oo < x) & (x < 1)"
            ],
            "text/latex": "$\\displaystyle -\\infty < x \\wedge x < 1$"
          },
          "metadata": {},
          "execution_count": 35
        }
      ]
    }
  ]
}